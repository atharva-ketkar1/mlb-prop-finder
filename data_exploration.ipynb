{
 "cells": [
  {
   "cell_type": "code",
   "execution_count": 24,
   "id": "7a40ae3f",
   "metadata": {},
   "outputs": [],
   "source": [
    "from pybaseball import statcast, pitching_stats_range, statcast_pitcher, pitching_stats\n",
    "import numpy as np\n",
    "from sklearn.ensemble import RandomForestRegressor\n",
    "from sklearn.model_selection import train_test_split\n",
    "from sklearn.metrics import mean_squared_error, r2_score\n",
    "import matplotlib.pyplot as plt\n",
    "from datetime import datetime, timedelta\n",
    "import pandas as pd\n",
    "import re\n",
    "import unicodedata\n",
    "import os\n",
    "from xgboost import XGBRegressor, plot_importance\n",
    "from ml_preds import fix_escaped_unicode,normalize_name\n",
    "from sklearn.inspection import permutation_importance\n",
    "from xgboost import XGBRegressor, plot_importance\n",
    "from sklearn.feature_selection import RFE\n",
    "import matplotlib.pyplot as plt"
   ]
  },
  {
   "cell_type": "code",
   "execution_count": 7,
   "id": "994e3156",
   "metadata": {},
   "outputs": [],
   "source": [
    "date = datetime.today().strftime('%Y-%m-%d')\n",
    "df_2023 = pitching_stats_range('2023-04-01', '2023-10-01')\n",
    "df_2023['year'] = 2023\n",
    "df_2024 = pitching_stats_range('2024-04-01', '2024-10-01')\n",
    "df_2024['year'] = 2024\n",
    "df_2025 = pitching_stats_range('2025-04-01', f'{date}') \n",
    "df_2025['year'] = 2025"
   ]
  },
  {
   "cell_type": "code",
   "execution_count": 17,
   "id": "1e3d5566",
   "metadata": {},
   "outputs": [],
   "source": [
    "df_base = pd.concat([df_2023, df_2024, df_2025], ignore_index=True)\n",
    "df_base['Name'] = df_base['Name'].apply(fix_escaped_unicode)\n",
    "df_base['Name'] = df_base['Name'].apply(normalize_name)\n",
    "#print(df_base.columns)"
   ]
  },
  {
   "cell_type": "code",
   "execution_count": 18,
   "id": "175499af",
   "metadata": {},
   "outputs": [
    {
     "name": "stdout",
     "output_type": "stream",
     "text": [
      "Index(['last_name, first_name', 'player_id', 'year', 'pa', 'k_percent',\n",
      "       'bb_percent', 'woba', 'xwoba', 'sweet_spot_percent',\n",
      "       'barrel_batted_rate', 'hard_hit_percent', 'avg_best_speed',\n",
      "       'avg_hyper_speed', 'whiff_percent', 'swing_percent', 'last_name',\n",
      "       'first_name', 'Name'],\n",
      "      dtype='object')\n"
     ]
    }
   ],
   "source": [
    "df_merge = pd.read_csv('data/pitcher_stats/pitcher_stats.csv')\n",
    "df_merge[['last_name', 'first_name']] = df_merge[\"last_name, first_name\"].str.split(\",\", expand=True)\n",
    "df_merge['Name'] = (df_merge['first_name'].str.strip() + ' ' + df_merge['last_name'].str.strip()).apply(normalize_name)\n",
    "print(df_merge.columns)"
   ]
  },
  {
   "cell_type": "code",
   "execution_count": 14,
   "id": "5a2da233",
   "metadata": {},
   "outputs": [
    {
     "name": "stdout",
     "output_type": "stream",
     "text": [
      "last_name, first_name     object\n",
      "player_id                  int64\n",
      "year                       int64\n",
      "pa                         int64\n",
      "k_percent                float64\n",
      "bb_percent               float64\n",
      "woba                     float64\n",
      "xwoba                    float64\n",
      "sweet_spot_percent       float64\n",
      "barrel_batted_rate       float64\n",
      "hard_hit_percent         float64\n",
      "avg_best_speed           float64\n",
      "avg_hyper_speed          float64\n",
      "whiff_percent            float64\n",
      "swing_percent            float64\n",
      "last_name                 object\n",
      "first_name                object\n",
      "Name                      object\n",
      "dtype: object\n"
     ]
    }
   ],
   "source": [
    "print(df_merge.dtypes)"
   ]
  },
  {
   "cell_type": "code",
   "execution_count": 21,
   "id": "3a5abd75",
   "metadata": {},
   "outputs": [
    {
     "name": "stdout",
     "output_type": "stream",
     "text": [
      "Index(['Name', 'Age', '#days', 'Lev', 'Tm', 'G', 'GS', 'W', 'L', 'SV', 'IP',\n",
      "       'H', 'R', 'ER', 'BB', 'SO', 'HR', 'HBP', 'ERA', 'AB', '2B', '3B', 'IBB',\n",
      "       'GDP', 'SF', 'SB', 'CS', 'PO', 'BF', 'Pit', 'Str', 'StL', 'StS',\n",
      "       'GB/FB', 'LD', 'PU', 'WHIP', 'BAbip', 'SO9', 'SO/W', 'mlbID', 'year',\n",
      "       'player_id', 'pa', 'k_percent', 'bb_percent', 'woba', 'xwoba',\n",
      "       'sweet_spot_percent', 'barrel_batted_rate', 'hard_hit_percent',\n",
      "       'avg_best_speed', 'avg_hyper_speed', 'whiff_percent', 'swing_percent'],\n",
      "      dtype='object')\n"
     ]
    }
   ],
   "source": [
    "df_merged = pd.merge(df_base, df_merge, on=['Name', 'year'], how='inner')\n",
    "df_merged = df_merged.drop(columns=['first_name', 'last_name', 'last_name, first_name'])\n",
    "print(df_merged.columns)"
   ]
  },
  {
   "cell_type": "code",
   "execution_count": 22,
   "id": "597b4fd4",
   "metadata": {},
   "outputs": [],
   "source": [
    "df_merged.to_csv('data/pitcher_stats/merged_pitcher_stats.csv', index=False)"
   ]
  },
  {
   "cell_type": "code",
   "execution_count": 34,
   "id": "789d7b1f",
   "metadata": {},
   "outputs": [
    {
     "name": "stdout",
     "output_type": "stream",
     "text": [
      "Full Model:\n",
      "R²: 0.7902008559836804\n",
      "MSE: 0.3284219994837939\n"
     ]
    }
   ],
   "source": [
    "df = pd.read_csv('data/pitcher_stats/merged_pitcher_stats.csv')\n",
    "\n",
    "df['SO_per_game'] = df['SO'] / df['G'].replace(0, np.nan)\n",
    "df['SO_per_IP'] = df['SO'] / df['IP'].replace(0, np.nan)\n",
    "df['K_BB_ratio'] = df['SO'] / df['BB'].replace(0, np.nan)\n",
    "\n",
    "drop_cols = ['Name', 'Lev', 'Tm', 'mlbID', 'player_id', 'SV']\n",
    "df = df.drop(columns=drop_cols)\n",
    "\n",
    "df = df.replace([np.inf, -np.inf], np.nan).dropna()\n",
    "\n",
    "target = 'SO_per_game'\n",
    "features = df.columns.drop(['year', target])\n",
    "\n",
    "train_df = df[df['year'] < 2025]\n",
    "test_df = df[df['year'] == 2025]\n",
    "\n",
    "X_train = train_df[features]\n",
    "y_train = train_df[target]\n",
    "X_test = test_df[features]\n",
    "y_test = test_df[target]\n",
    "\n",
    "model = XGBRegressor(n_estimators=100, learning_rate=0.05)\n",
    "model.fit(X_train, y_train)\n",
    "\n",
    "y_pred = model.predict(X_test)\n",
    "print(\"Full Model:\")\n",
    "print(\"R²:\", r2_score(y_test, y_pred))\n",
    "print(\"MSE:\", mean_squared_error(y_test, y_pred))"
   ]
  },
  {
   "cell_type": "code",
   "execution_count": 37,
   "id": "463feb4e",
   "metadata": {},
   "outputs": [
    {
     "name": "stdout",
     "output_type": "stream",
     "text": [
      "\n",
      "Permutation Importance:\n",
      "k_percent: 0.7093\n",
      "SO_per_IP: 0.0813\n",
      "xwoba: 0.0359\n",
      "W: 0.0115\n",
      "G: 0.0110\n",
      "SO9: 0.0106\n",
      "SO: 0.0092\n",
      "ERA: 0.0040\n",
      "StS: 0.0022\n",
      "woba: 0.0020\n",
      "Str: 0.0018\n",
      "swing_percent: 0.0017\n",
      "L: 0.0012\n",
      "GB/FB: 0.0010\n",
      "SB: 0.0006\n",
      "R: 0.0005\n",
      "whiff_percent: 0.0005\n",
      "3B: 0.0004\n",
      "PU: 0.0004\n",
      "WHIP: 0.0004\n",
      "H: 0.0003\n",
      "GDP: 0.0001\n",
      "BAbip: 0.0001\n",
      "BB: 0.0001\n",
      "StL: 0.0001\n",
      "IBB: 0.0001\n",
      "K_BB_ratio: 0.0000\n",
      "SF: 0.0000\n",
      "IP: 0.0000\n",
      "AB: 0.0000\n",
      "GS: 0.0000\n",
      "#days: 0.0000\n",
      "BF: 0.0000\n",
      "SO/W: 0.0000\n",
      "Pit: 0.0000\n",
      "pa: 0.0000\n",
      "hard_hit_percent: -0.0000\n",
      "CS: -0.0000\n",
      "PO: -0.0000\n",
      "avg_hyper_speed: -0.0000\n",
      "2B: -0.0000\n",
      "HR: -0.0001\n",
      "ER: -0.0002\n",
      "HBP: -0.0002\n",
      "bb_percent: -0.0006\n",
      "sweet_spot_percent: -0.0006\n",
      "barrel_batted_rate: -0.0008\n",
      "avg_best_speed: -0.0013\n",
      "Age: -0.0021\n",
      "LD: -0.0042\n"
     ]
    },
    {
     "data": {
      "image/png": "[encoded data removed]",
      "text/plain": [
       "<Figure size 1000x600 with 1 Axes>"
      ]
     },
     "metadata": {},
     "output_type": "display_data"
    }
   ],
   "source": [
    "result = permutation_importance(model, X_test, y_test, n_repeats=10, random_state=42)\n",
    "sorted_idx = result.importances_mean.argsort()[::-1]\n",
    "\n",
    "print(\"\\nPermutation Importance:\")\n",
    "for i in sorted_idx:\n",
    "    print(f\"{X_test.columns[i]}: {result.importances_mean[i]:.4f}\")\n",
    "\n",
    "# Plot\n",
    "plt.figure(figsize=(10, 6))\n",
    "plt.barh(X_test.columns[sorted_idx], result.importances_mean[sorted_idx])\n",
    "plt.gca().invert_yaxis()\n",
    "plt.title(\"Permutation Importance\")\n",
    "plt.tight_layout()\n",
    "plt.show()\n"
   ]
  },
  {
   "cell_type": "code",
   "execution_count": 36,
   "id": "a312e5c5",
   "metadata": {},
   "outputs": [
    {
     "name": "stdout",
     "output_type": "stream",
     "text": [
      "Top Features from RFE: ['G', 'SO', 'k_percent', 'woba', 'SO_per_IP']\n",
      "\n",
      "Model with Top RFE Features:\n",
      "R²: 0.8037621895067066\n",
      "MSE: 0.30719293159516414\n"
     ]
    }
   ],
   "source": [
    "from sklearn.ensemble import RandomForestRegressor\n",
    "rfe_model = RandomForestRegressor(n_estimators=100, random_state=42)\n",
    "rfe = RFE(rfe_model, n_features_to_select=5)\n",
    "rfe.fit(X_train, y_train)\n",
    "\n",
    "top_features = X_train.columns[rfe.support_]\n",
    "print(f\"Top Features from RFE: {top_features.tolist()}\")\n",
    "\n",
    "# Retrain using only top features\n",
    "X_train_top = X_train[top_features]\n",
    "X_test_top = X_test[top_features]\n",
    "\n",
    "model_top = XGBRegressor(n_estimators=100, learning_rate=0.05)\n",
    "model_top.fit(X_train_top, y_train)\n",
    "y_pred_top = model_top.predict(X_test_top)\n",
    "\n",
    "print(\"\\nModel with Top RFE Features:\")\n",
    "print(\"R²:\", r2_score(y_test, y_pred_top))\n",
    "print(\"MSE:\", mean_squared_error(y_test, y_pred_top))\n"
   ]
  }
 ],
 "metadata": {
  "kernelspec": {
   "display_name": "Python 3",
   "language": "python",
   "name": "python3"
  },
  "language_info": {
   "codemirror_mode": {
    "name": "ipython",
    "version": 3
   },
   "file_extension": ".py",
   "mimetype": "text/x-python",
   "name": "python",
   "nbconvert_exporter": "python",
   "pygments_lexer": "ipython3",
   "version": "3.11.2"
  }
 },
 "nbformat": 4,
 "nbformat_minor": 5
}
